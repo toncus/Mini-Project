{
 "cells": [
  {
   "cell_type": "code",
   "execution_count": 34,
   "metadata": {},
   "outputs": [],
   "source": [
    "# Dependencies\n",
    "import requests\n",
    "import json\n",
    "from vaderSentiment.vaderSentiment import SentimentIntensityAnalyzer\n",
    "analyzer = SentimentIntensityAnalyzer()"
   ]
  },
  {
   "cell_type": "code",
   "execution_count": 35,
   "metadata": {},
   "outputs": [],
   "source": [
    "# New Dependency! Use this to pretty print the JSON\n",
    "# https://docs.python.org/3/library/pprint.html\n",
    "from pprint import pprint"
   ]
  },
  {
   "cell_type": "code",
   "execution_count": 36,
   "metadata": {},
   "outputs": [],
   "source": [
    "# Note that the ?t= is a query param for the t-itle of the\n",
    "# movie we want to search for.\n",
    "url = \"https://orion.apiseeds.com/api/music/lyric/\"\n",
    "api_key = \"apikey=cvxkWV4lcQBvOfEnzBtRw56eqOqmOVPyuue3AcN3kxgsEuviEISQpWJAfPMEIHOS\""
   ]
  },
  {
   "cell_type": "code",
   "execution_count": 37,
   "metadata": {},
   "outputs": [],
   "source": [
    "# artist?\n",
    "#\"artist = input(\"Who is the artist? singer/group \")\n",
    "artist=\"Michael Jackson\""
   ]
  },
  {
   "cell_type": "code",
   "execution_count": 38,
   "metadata": {},
   "outputs": [],
   "source": [
    "# song?\n",
    "\n",
    "#song=input(\"Which song? \")\n",
    "song=\"Heal The World\""
   ]
  },
  {
   "cell_type": "code",
   "execution_count": 39,
   "metadata": {},
   "outputs": [
    {
     "name": "stdout",
     "output_type": "stream",
     "text": [
      "https://orion.apiseeds.com/api/music/lyric/Michael%20Jackson/Heal%20The%20World?apikey=cvxkWV4lcQBvOfEnzBtRw56eqOqmOVPyuue3AcN3kxgsEuviEISQpWJAfPMEIHOS\n"
     ]
    }
   ],
   "source": [
    "# Performing a GET request similar to the one we executed\n",
    "# earlier\n",
    "artist=artist\n",
    "track =\"/\" + str(song) +\"?\"\n",
    "response = requests.get(url + artist + track + api_key)\n",
    "print(response.url)"
   ]
  },
  {
   "cell_type": "code",
   "execution_count": 40,
   "metadata": {},
   "outputs": [
    {
     "name": "stdout",
     "output_type": "stream",
     "text": [
      "{\n",
      "    \"result\": {\n",
      "        \"artist\": {\n",
      "            \"name\": \"Michael Jackson\"\n",
      "        },\n",
      "        \"copyright\": {\n",
      "            \"artist\": \"Copyright Michael Jackson\",\n",
      "            \"notice\": \"Heal The World lyrics are property and copyright of their owners. Commercial use is not allowed.\",\n",
      "            \"text\": \"All lyrics provided for educational purposes and personal use only.\"\n",
      "        },\n",
      "        \"probability\": 100,\n",
      "        \"similarity\": 1,\n",
      "        \"track\": {\n",
      "            \"lang\": {\n",
      "                \"code\": \"en\",\n",
      "                \"name\": \"English\"\n",
      "            },\n",
      "            \"name\": \"Heal The World\",\n",
      "            \"text\": \"''Think about the generations and they say:\\n- We want to make it a better place\\nFor our children\\n\\nAnd our children's children\\nSo that they know\\nIt's a better world for them\\nAnd think if they can\\nMake it a better place?\\\"\\n\\nThere's a place in your heart\\nAnd I know that it is love\\nAnd this place could be\\nMuch brighter than tomorrow\\n\\nAnd if you really try\\nYou'll find there's no need to cry\\nIn this place you'll feel\\nThere's no hurt or sorrow\\n\\nThere are ways to get there\\nIf you care enough for the living\\nMake a little space\\nMake a better place\\n\\nHeal the world\\nMake it a better place\\nFor you and for me\\nAnd the entire human race\\n\\nThere are people dying\\nIf you care enough for the living\\nMake it a better place\\nFor you and for me\\n\\nIf you want to know why\\nThere's love that cannot lie\\nLove is strong\\nIt only cares of joyful giving\\n\\nIf we try we shall see\\nIn this bliss\\nWe cannot feel fear or dread\\nWe stop existing and start living\\n\\nThen it feels that always\\nLove's enough for us growing\\nSo make a better world\\nMake a better world\\n\\nHeal the world\\nMake it a better place\\nFor you and for me\\nAnd the entire human race\\n\\nThere are people dying\\nIf you care enough for the living\\nMake a better place\\nFor you and for me\\n\\nAnd the dream we were conceived in\\nWill reveal a joyful face\\nAnd the world we once believed in\\nWill shine again in grace\\n\\nThen why do we keep strangling life\\nWound this earth, crucify its soul\\nThough it's plain to see\\nThis world is heavenly, be God's glow\\n\\nWe could fly so high\\nLet our spirits never die\\nIn my heart I feel\\nYou are all my brothers\\n\\nCreate a world with no fear\\nTogether we'll cry happy tears\\nSee the nations turn their swords\\nInto plowshares\\n\\nWe could really get there\\nIf you cared enough for the living\\nMake a little space\\nTo make a better place\\n\\nHeal the world\\nMake it a better place\\nFor you and for me\\nAnd the entire human race\\n\\nThere are people dying\\nIf you care enough for the living\\nMake a better place\\nFor you and for me\\n\\nThere are people dying\\nIf you care enough for the living\\nMake a better place\\nFor you and for me \\n\\nYou and for me\\n(Make a better place) [3x]\\n\\nYou and for me\\n(Heal the world we live in)\\nYou and for me\\n(Save it for our children) [3x]\"\n",
      "        }\n",
      "    }\n",
      "}\n"
     ]
    }
   ],
   "source": [
    "# Pretty print JSON\n",
    "response = requests.get(response.url)\n",
    "response_json = response.json()\n",
    "#print(json.dumps(response, indent=4, sort_keys=True))\n",
    "data = json.dumps(response_json, indent=4, sort_keys=True)\n",
    "\n",
    "print(data)"
   ]
  },
  {
   "cell_type": "code",
   "execution_count": 41,
   "metadata": {},
   "outputs": [],
   "source": [
    "passage=response_json[\"result\"][\"track\"][\"text\"]\n"
   ]
  },
  {
   "cell_type": "code",
   "execution_count": 42,
   "metadata": {},
   "outputs": [],
   "source": [
    "# Target String Setting\n",
    "target_string = passage"
   ]
  },
  {
   "cell_type": "code",
   "execution_count": 43,
   "metadata": {},
   "outputs": [],
   "source": [
    "# Run analysis\n",
    "compound = analyzer.polarity_scores(target_string)[\"compound\"]\n",
    "pos = analyzer.polarity_scores(target_string)[\"pos\"]\n",
    "neu = analyzer.polarity_scores(target_string)[\"neu\"]\n",
    "neg = analyzer.polarity_scores(target_string)[\"neg\"]"
   ]
  },
  {
   "cell_type": "code",
   "execution_count": 44,
   "metadata": {},
   "outputs": [
    {
     "name": "stdout",
     "output_type": "stream",
     "text": [
      "\n",
      "\n",
      "''Think about the generations and they say:\n",
      "- We want to make it a better place\n",
      "For our children\n",
      "\n",
      "And our children's children\n",
      "So that they know\n",
      "It's a better world for them\n",
      "And think if they can\n",
      "Make it a better place?\"\n",
      "\n",
      "There's a place in your heart\n",
      "And I know that it is love\n",
      "And this place could be\n",
      "Much brighter than tomorrow\n",
      "\n",
      "And if you really try\n",
      "You'll find there's no need to cry\n",
      "In this place you'll feel\n",
      "There's no hurt or sorrow\n",
      "\n",
      "There are ways to get there\n",
      "If you care enough for the living\n",
      "Make a little space\n",
      "Make a better place\n",
      "\n",
      "Heal the world\n",
      "Make it a better place\n",
      "For you and for me\n",
      "And the entire human race\n",
      "\n",
      "There are people dying\n",
      "If you care enough for the living\n",
      "Make it a better place\n",
      "For you and for me\n",
      "\n",
      "If you want to know why\n",
      "There's love that cannot lie\n",
      "Love is strong\n",
      "It only cares of joyful giving\n",
      "\n",
      "If we try we shall see\n",
      "In this bliss\n",
      "We cannot feel fear or dread\n",
      "We stop existing and start living\n",
      "\n",
      "Then it feels that always\n",
      "Love's enough for us growing\n",
      "So make a better world\n",
      "Make a better world\n",
      "\n",
      "Heal the world\n",
      "Make it a better place\n",
      "For you and for me\n",
      "And the entire human race\n",
      "\n",
      "There are people dying\n",
      "If you care enough for the living\n",
      "Make a better place\n",
      "For you and for me\n",
      "\n",
      "And the dream we were conceived in\n",
      "Will reveal a joyful face\n",
      "And the world we once believed in\n",
      "Will shine again in grace\n",
      "\n",
      "Then why do we keep strangling life\n",
      "Wound this earth, crucify its soul\n",
      "Though it's plain to see\n",
      "This world is heavenly, be God's glow\n",
      "\n",
      "We could fly so high\n",
      "Let our spirits never die\n",
      "In my heart I feel\n",
      "You are all my brothers\n",
      "\n",
      "Create a world with no fear\n",
      "Together we'll cry happy tears\n",
      "See the nations turn their swords\n",
      "Into plowshares\n",
      "\n",
      "We could really get there\n",
      "If you cared enough for the living\n",
      "Make a little space\n",
      "To make a better place\n",
      "\n",
      "Heal the world\n",
      "Make it a better place\n",
      "For you and for me\n",
      "And the entire human race\n",
      "\n",
      "There are people dying\n",
      "If you care enough for the living\n",
      "Make a better place\n",
      "For you and for me\n",
      "\n",
      "There are people dying\n",
      "If you care enough for the living\n",
      "Make a better place\n",
      "For you and for me \n",
      "\n",
      "You and for me\n",
      "(Make a better place) [3x]\n",
      "\n",
      "You and for me\n",
      "(Heal the world we live in)\n",
      "You and for me\n",
      "(Save it for our children) [3x]\n",
      "\n",
      "-------------------------------------\n",
      "___Sentiment__Analysis____\n",
      "Artist: Michael Jackson\n",
      "Song  : Heal The World\n",
      "-------------------------------------\n",
      "Category Score            Value\n",
      "Compound Score:           0.998\n",
      "Positive Score:           0.235\n",
      "Neutral Score:            0.707\n",
      "Negative Score:           0.058\n",
      "\n",
      "End of Report\n"
     ]
    }
   ],
   "source": [
    "# Print Analysis\n",
    "print()\n",
    "print()\n",
    "print(target_string)\n",
    "print()\n",
    "print('-------------------------------------')\n",
    "print(\"___Sentiment__Analysis____\")\n",
    "print(\"Artist: \" + artist)\n",
    "print(\"Song  : \" + song)\n",
    "print(\"-------------------------------------\")\n",
    "print(\"Category Score            Value\")\n",
    "print(\"Compound Score:           %s\" % compound)\n",
    "print(\"Positive Score:           %s\" % pos)\n",
    "print(\"Neutral Score:            %s\" % neu)\n",
    "print(\"Negative Score:           %s\" % neg)\n",
    "print()\n",
    "print(\"End of Report\")"
   ]
  },
  {
   "cell_type": "code",
   "execution_count": 45,
   "metadata": {},
   "outputs": [
    {
     "data": {
      "text/plain": [
       "'C:\\\\Users\\\\Toncus\\\\Desktop'"
      ]
     },
     "execution_count": 45,
     "metadata": {},
     "output_type": "execute_result"
    }
   ],
   "source": [
    "pwd"
   ]
  },
  {
   "cell_type": "code",
   "execution_count": null,
   "metadata": {},
   "outputs": [],
   "source": []
  },
  {
   "cell_type": "code",
   "execution_count": null,
   "metadata": {},
   "outputs": [],
   "source": []
  }
 ],
 "metadata": {
  "kernelspec": {
   "display_name": "Python 3",
   "language": "python",
   "name": "python3"
  },
  "language_info": {
   "codemirror_mode": {
    "name": "ipython",
    "version": 3
   },
   "file_extension": ".py",
   "mimetype": "text/x-python",
   "name": "python",
   "nbconvert_exporter": "python",
   "pygments_lexer": "ipython3",
   "version": "3.6.4"
  }
 },
 "nbformat": 4,
 "nbformat_minor": 2
}
